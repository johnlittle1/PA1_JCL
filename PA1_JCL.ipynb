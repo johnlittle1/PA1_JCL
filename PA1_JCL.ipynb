{
 "cells": [
  {
   "cell_type": "markdown",
   "id": "c76cd06a-d3b7-4917-aea4-81b12931ab24",
   "metadata": {},
   "source": [
    "# Programming Assignment 1\n",
    "---\n",
    "**Author:** John Little  \n",
    "**Version:** 1.0  \n",
    "**Semester:** Spring 2024 "
   ]
  },
  {
   "cell_type": "markdown",
   "id": "8f08a904-2536-4917-be7d-7f540dddee79",
   "metadata": {},
   "source": [
    "### Problem 1 - Manipulating Numbers "
   ]
  },
  {
   "cell_type": "code",
   "execution_count": 69,
   "id": "df774386-c017-40a9-9966-1209ce4b3830",
   "metadata": {},
   "outputs": [
    {
     "name": "stdin",
     "output_type": "stream",
     "text": [
      "Enter a floating point number:  44.3\n",
      "Enter an integer:  16\n"
     ]
    },
    {
     "name": "stdout",
     "output_type": "stream",
     "text": [
      "The sum is 60.3.\n",
      "The difference is 28.3.\n",
      "The product is 708.8.\n",
      "The quotient is 2.769.\n",
      "The type for the result is <class 'float'>\n"
     ]
    }
   ],
   "source": [
    "Number1 = float(input('Enter a floating point number: '))\n",
    "Number2 = int(input'Enter an integer: '))\n",
    "result = round(Number1+Number2,ndigits=3)\n",
    "print(f'The sum is {result}.')\n",
    "result = round(Number1-Number2,ndigits=3)\n",
    "print(f'The difference is {result}.')\n",
    "result = round(Number1*Number2,ndigits=3)\n",
    "print(f'The product is {result}.')\n",
    "result = round(Number1/Number2,ndigits=3)\n",
    "print(f'The quotient is {result}.')\n",
    "print(f'The type for the result is {type(result)}')"
   ]
  },
  {
   "cell_type": "markdown",
   "id": "c46e0190-db81-4a63-bab2-937207fc9b3f",
   "metadata": {},
   "source": [
    "### Problem 2 - Calculating Target Heart Rate "
   ]
  },
  {
   "cell_type": "code",
   "execution_count": 78,
   "id": "d00dfdba-907b-467a-9f74-f17eaa90b736",
   "metadata": {},
   "outputs": [
    {
     "name": "stdin",
     "output_type": "stream",
     "text": [
      "Please enter your age:  19\n"
     ]
    },
    {
     "name": "stdout",
     "output_type": "stream",
     "text": [
      "Your maximum heart rate is 201.0.\n",
      "Your heart rate range during exercise should be between 100.5 and 170.85.\n"
     ]
    }
   ],
   "source": [
    "Age = float(input('Please enter your age: '))\n",
    "MaxHR = 220-Age\n",
    "print(f'Your maximum heart rate is {MaxHR}.')\n",
    "UpLimit = .85*MaxHR\n",
    "LowLimit = .50*MaxHR\n",
    "print(f'Your heart rate range during exercise should be between {LowLimit} and {UpLimit}.')"
   ]
  },
  {
   "cell_type": "code",
   "execution_count": null,
   "id": "ceb69668-6123-41d9-9c9a-27ff1e474acd",
   "metadata": {},
   "outputs": [],
   "source": [
    "git remote add origin https://github.com/johnlittle1/PA1_JCL.git\n",
    "git branch -M main\n",
    "git push -u origin main"
   ]
  }
 ],
 "metadata": {
  "kernelspec": {
   "display_name": "anaconda-panel-2023.05-py310",
   "language": "python",
   "name": "conda-env-anaconda-panel-2023.05-py310-py"
  },
  "language_info": {
   "codemirror_mode": {
    "name": "ipython",
    "version": 3
   },
   "file_extension": ".py",
   "mimetype": "text/x-python",
   "name": "python",
   "nbconvert_exporter": "python",
   "pygments_lexer": "ipython3",
   "version": "3.11.5"
  }
 },
 "nbformat": 4,
 "nbformat_minor": 5
}
